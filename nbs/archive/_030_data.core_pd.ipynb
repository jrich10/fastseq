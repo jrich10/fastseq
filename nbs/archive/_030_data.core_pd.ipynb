{
 "cells": [
  {
   "cell_type": "code",
   "execution_count": null,
   "metadata": {},
   "outputs": [],
   "source": [
    "# default_exp data.core_pd"
   ]
  },
  {
   "cell_type": "code",
   "execution_count": null,
   "metadata": {},
   "outputs": [
    {
     "name": "stderr",
     "output_type": "stream",
     "text": [
      "/home/tako/dev/env37/lib/python3.7/site-packages/pandas/compat/__init__.py:117: UserWarning: Could not import the lzma module. Your installed Python is incomplete. Attempting to use lzma compression will result in a RuntimeError.\n",
      "  warnings.warn(msg)\n"
     ]
    }
   ],
   "source": [
    "# hide\n",
    "import sys\n",
    "\n",
    "sys.path.append(\"..\")\n",
    "import pandas as pd"
   ]
  },
  {
   "cell_type": "code",
   "execution_count": null,
   "metadata": {},
   "outputs": [],
   "source": [
    "# hide\n",
    "from nbdev.showdoc import *"
   ]
  },
  {
   "cell_type": "markdown",
   "metadata": {},
   "source": [
    "# Data Core\n",
    "\n",
    "> Using the fastai2 `Datasets` to make an time series dataset.\n",
    "\n",
    "For now all is univerable but in the future I would also like to add multiplevariable. \n"
   ]
  },
  {
   "cell_type": "code",
   "execution_count": null,
   "metadata": {},
   "outputs": [],
   "source": [
    "# export\n",
    "from fastseq.data.load import *\n",
    "from fastseq.core import *\n",
    "from fastcore.all import *\n",
    "from fastcore.imports import *\n",
    "from fastai2.basics import *\n",
    "from fastai2.data.transforms import *\n",
    "from fastai2.tabular.core import *\n",
    "from fastseq.data.load_pd import *"
   ]
  },
  {
   "cell_type": "markdown",
   "metadata": {},
   "source": [
    "# Transforms\n",
    "\n",
    "> Basic function to process time-series data before assembling it in a `DataLoaders`."
   ]
  },
  {
   "cell_type": "markdown",
   "metadata": {},
   "source": [
    "## Normalize"
   ]
  },
  {
   "cell_type": "code",
   "execution_count": null,
   "metadata": {},
   "outputs": [],
   "source": [
    "# export\n",
    "def _zeros_2_ones(o, eps=1e-8):\n",
    "    nan_mask = o!=o\n",
    "    o[o < eps ] = 1    \n",
    "    o[nan_mask ] = 1    \n",
    "    return o\n",
    "    "
   ]
  },
  {
   "cell_type": "code",
   "execution_count": null,
   "metadata": {},
   "outputs": [
    {
     "name": "stderr",
     "output_type": "stream",
     "text": [
      "/home/tako/dev/env37/lib/python3.7/site-packages/ipykernel_launcher.py:4: RuntimeWarning: invalid value encountered in less\n",
      "  after removing the cwd from sys.path.\n"
     ]
    }
   ],
   "source": [
    "o = np.arange(0,1,.1)\n",
    "test_close(list(_zeros_2_ones(o,.5)),[1. , 1. , 1. , 1. , 1. , 0.5, 0.6, 0.7, 0.8, 0.9])\n",
    "\n",
    "o = np.arange(0,1,.1)[None,:]\n",
    "test_close(list(_zeros_2_ones(o,.5)),[[1. , 1. , 1. , 1. , 1. , 0.5, 0.6, 0.7, 0.8, 0.9]])\n",
    "\n",
    "o = torch.arange(0,1,.1)[None,:]\n",
    "test_close(_zeros_2_ones(o,.5),tensor([[1. , 1. , 1. , 1. , 1. , 0.5, 0.6, 0.7, 0.8, 0.9]]))\n",
    "\n",
    "o = torch.arange(0,1,.1)[None,:]\n",
    "o[:,-1]= torch.tensor(float('nan'))\n",
    "test_close(_zeros_2_ones(o,.5),tensor([[1. , 1. , 1. , 1. , 1. , 0.5, 0.6, 0.7, 0.8, 1]]))\n",
    "\n",
    "o = np.arange(0,1,.1)[None,:]\n",
    "o[:,-1]= np.nan\n",
    "test_close(list(_zeros_2_ones(o,.5)),[[1. , 1. , 1. , 1. , 1. , 0.5, 0.6, 0.7, 0.8, 1]])"
   ]
  },
  {
   "cell_type": "markdown",
   "metadata": {},
   "source": [
    "### old"
   ]
  },
  {
   "cell_type": "code",
   "execution_count": null,
   "metadata": {},
   "outputs": [],
   "source": [
    "# export\n",
    "import warnings\n",
    "class NormalizeTSMulti(ItemTransform):\n",
    "    \"Normalize the Time-Series.\"\n",
    "    def __init__(self, to_norm=['TensorCon','TensorSeqs'], verbose=False, make_ones=True, eps=1e-7, mean = None):\n",
    "        \"\"\"\n",
    "        `make_ones` will make the std 1 if the std is smaller than `10*eps`.\n",
    "        This is for blok seqences to not magnify the `y` part of the data.\n",
    "\n",
    "        `mean` will set a mean instead of the mean of the x value.\n",
    "        (\n",
    "            TensorSeqs(x, label=[self.y_name + '_x'], m=['g']),\n",
    "            TensorSeqs(tsx,label=self.ts_names),\n",
    "            TensorCon(cat,label=self.cat_names).long(),\n",
    "            TensorCon(con,label=self.con_names),\n",
    "            TensorSeqs(y, label=[self.y_name+ '_y'], m=['r'])\n",
    "        )\n",
    "        \"\"\"\n",
    "        store_attr(self,'verbose, make_ones, eps, mean,to_norm')\n",
    "        self.m, self.s = {}, {}\n",
    "        warnings.warn(\"NormalizeTSMulti is depricated. Please use `NormalizeSeqsMulti`\")\n",
    "\n",
    "    def encodes(self, o):\n",
    "        for i in range(len(o)-1):\n",
    "            self.m[i], self.s[i] = 0, 1\n",
    "            if type(o[i]) == TensorCon and o[i].shape[-1]>0: # if tensor has shape (bs,0) than ignore\n",
    "                if 'TensorCon' in self.to_norm:\n",
    "                    self.m[i] = torch.mean(o[i])\n",
    "                    self.s[i] = torch.std(o[i]) + self.eps \n",
    "            elif type(o[i]) == TensorSeqs:\n",
    "                if 'TensorSeqs' in self.to_norm:\n",
    "                    self.m[i] = torch.mean(o[i], -1, keepdim=True)\n",
    "                    self.s[i] = torch.std(o[i],  -1, keepdim=True) +self.eps\n",
    "                    self.s[i] = _zeros_2_ones(self.s[i], self.eps*10)\n",
    "            elif self.verbose:\n",
    "                if o[i].shape[-1]>0 and not type(o[i]) == TensorCatI:\n",
    "                    print(f'NormalizeTSMulti:type {type(o[i])} on location:{i}/{len(o)} of tuple not found')\n",
    "                \n",
    "        # y must be scaled with m\n",
    "        self.m[len(o)-1], self.s[len(o)-1] = self.m[0],self.s[0] \n",
    "        # TODO make y its own type\n",
    "        if self.verbose:\n",
    "            print('encodes',[a.shape for a in o],'m shape', {k:o.shape for k,o in self.m.items()},'s shape',{k:o.shape for k,o in self.s.items()})\n",
    "        \n",
    "        return TSMulti_([(o[i]-self.m[i]) / self.s[i] for i in range(len(o))])       \n",
    "    \n",
    "    def decodes(self, o):\n",
    "        if o[0].is_cuda:\n",
    "            self.m, self.s = to_device(self.m,'cuda'), to_device(self.s,'cuda')\n",
    "            if sum([a.is_cuda for a in o]) != len(o):\n",
    "                o = Tuple([to_device(a,'cuda') for a in o])\n",
    "        else:\n",
    "            if sum([a.is_cuda==False for a in o]) != len(o):\n",
    "                o = Tuple([to_cpu(a) for a in o])\n",
    "            self.m, self.s = to_cpu(self.m), to_cpu(self.s)\n",
    "        if self.verbose:\n",
    "            print('decodes',[a.shape for a in o],  {k:o.shape for k,o in self.m.items()},'s shape',{k:o.shape for k,o in self.s.items()})\n",
    "        return TSMulti_([(o[i]*self.s[i])+self.m[i] for i in range(len(o))])"
   ]
  },
  {
   "cell_type": "code",
   "execution_count": null,
   "metadata": {},
   "outputs": [
    {
     "name": "stderr",
     "output_type": "stream",
     "text": [
      "/home/tako/dev/env37/lib/python3.7/site-packages/ipykernel_launcher.py:21: UserWarning: NormalizeTSMulti is depricated. Please use `NormalizeSeqsMulti`\n"
     ]
    }
   ],
   "source": [
    "o = TSMulti_(TensorSeqs(np.arange(12.)),1,2,TensorSeqs(np.arange(-1,11.)))\n",
    "tmf = NormalizeTSMulti()\n",
    "o_tmf = tmf(o)\n"
   ]
  },
  {
   "cell_type": "code",
   "execution_count": null,
   "metadata": {},
   "outputs": [
    {
     "name": "stdout",
     "output_type": "stream",
     "text": [
      "413 µs ± 13.7 µs per loop (mean ± std. dev. of 7 runs, 1000 loops each)\n"
     ]
    }
   ],
   "source": [
    "%%timeit\n",
    "o_tmf = tmf(o)"
   ]
  },
  {
   "cell_type": "markdown",
   "metadata": {},
   "source": [
    "### new"
   ]
  },
  {
   "cell_type": "markdown",
   "metadata": {},
   "source": [
    "# TSDataLoaders"
   ]
  },
  {
   "cell_type": "markdown",
   "metadata": {},
   "source": [
    "## Utils"
   ]
  },
  {
   "cell_type": "code",
   "execution_count": null,
   "metadata": {},
   "outputs": [],
   "source": [
    "def concat_ts_list(train, val):\n",
    "    items=L()\n",
    "    assert len(train) == len(val)\n",
    "    for t, v in zip(train, val):\n",
    "        items.append(np.concatenate([t,v],1))\n",
    "    return items"
   ]
  },
  {
   "cell_type": "code",
   "execution_count": null,
   "metadata": {},
   "outputs": [],
   "source": [
    "a = [np.random.randn(3,10)]*50\n",
    "b = [np.random.randn(3,5)]*50\n",
    "r = concat_ts_list(a,b)\n",
    "test_eq(r[0].shape,(3,15))\n",
    "test_eq(r[0], np.concatenate([a[0],b[0]],1))"
   ]
  },
  {
   "cell_type": "code",
   "execution_count": null,
   "metadata": {},
   "outputs": [],
   "source": [
    "# export\n",
    "def make_test_df(df:L(), horizon:int, lookback:int, keep_lookback:bool = False):\n",
    "    \"\"\"Splits the series in `df` based on `horizon + lookback`*, where the last part will go into `val` and the first in `train`.\n",
    "\n",
    "    *if `keep_lookback`:\n",
    "        it will only remove `horizon` from `train` otherwise also lookback.\n",
    "    \"\"\"\n",
    "    train, val = {}, {}  \n",
    "    for col in df:\n",
    "        train[col], val[col] = [], []        \n",
    "        if type(df.loc[0, col])==pd.Series or type(df.loc[0, col]) == np.ndarray:\n",
    "            for row in df[col]:\n",
    "                row = pd.Series(row.flatten()) if isinstance(row, np.ndarray) else row\n",
    "                val[col].append(row.iloc[-(horizon+lookback):])\n",
    "                if keep_lookback:\n",
    "                    train[col].append(row.iloc[:-(horizon)])\n",
    "                else:\n",
    "                    train[col].append(row.iloc[:-(horizon+lookback)])\n",
    "        else:\n",
    "            val[col]   = df[col]\n",
    "            train[col] = df[col]\n",
    "\n",
    "    return pd.DataFrame(train), pd.DataFrame(val)\n"
   ]
  },
  {
   "cell_type": "code",
   "execution_count": null,
   "metadata": {},
   "outputs": [],
   "source": [
    "# hide\n",
    "# series\n",
    "horizon,lookback = 2,5\n",
    "t = np.arange(-5,25)\n",
    "a = np.sin(t)\n",
    "df = pd.DataFrame({'x':[pd.Series(i + (i*.6)*a*-.5) for i in range(1,100)],\n",
    "                   'a':[i+a for i in range(1,100)]})\n",
    "train, val = make_test_df(df, lookback, horizon)\n",
    "test_eq(val.loc[0,'x'].shape, (lookback+horizon,))\n",
    "test_eq(train.loc[0,'x'].shape, (23,))"
   ]
  },
  {
   "cell_type": "code",
   "execution_count": null,
   "metadata": {},
   "outputs": [
    {
     "data": {
      "text/html": [
       "<div>\n",
       "<style scoped>\n",
       "    .dataframe tbody tr th:only-of-type {\n",
       "        vertical-align: middle;\n",
       "    }\n",
       "\n",
       "    .dataframe tbody tr th {\n",
       "        vertical-align: top;\n",
       "    }\n",
       "\n",
       "    .dataframe thead th {\n",
       "        text-align: right;\n",
       "    }\n",
       "</style>\n",
       "<table border=\"1\" class=\"dataframe\">\n",
       "  <thead>\n",
       "    <tr style=\"text-align: right;\">\n",
       "      <th></th>\n",
       "      <th>x</th>\n",
       "      <th>weather</th>\n",
       "      <th>city</th>\n",
       "      <th>cont</th>\n",
       "    </tr>\n",
       "  </thead>\n",
       "  <tbody>\n",
       "    <tr>\n",
       "      <th>0</th>\n",
       "      <td>0    -1.652145\n",
       "1    -1.655056\n",
       "2    -1.481200\n",
       "3    -1.624071\n",
       "4    -1.559541\n",
       "        ...   \n",
       "58    0.919926\n",
       "59    1.055899\n",
       "60    1.134450\n",
       "61    1.395936\n",
       "62    1.493256\n",
       "Length: 63, dtype: float64</td>\n",
       "      <td>0     0.025891\n",
       "1    -0.118244\n",
       "2    -0.147395\n",
       "3     0.005440\n",
       "4     0.338567\n",
       "        ...   \n",
       "58    1.126825\n",
       "59    0.395029\n",
       "60   -0.211583\n",
       "61   -0.561282\n",
       "62   -0.604433\n",
       "Length: 63, dtype: float64</td>\n",
       "      <td>adam</td>\n",
       "      <td>-0.512541</td>\n",
       "    </tr>\n",
       "  </tbody>\n",
       "</table>\n",
       "</div>"
      ],
      "text/plain": [
       "                                                                                                                                                                                                 x  \\\n",
       "0  0    -1.652145\n",
       "1    -1.655056\n",
       "2    -1.481200\n",
       "3    -1.624071\n",
       "4    -1.559541\n",
       "        ...   \n",
       "58    0.919926\n",
       "59    1.055899\n",
       "60    1.134450\n",
       "61    1.395936\n",
       "62    1.493256\n",
       "Length: 63, dtype: float64   \n",
       "\n",
       "                                                                                                                                                                                           weather  \\\n",
       "0  0     0.025891\n",
       "1    -0.118244\n",
       "2    -0.147395\n",
       "3     0.005440\n",
       "4     0.338567\n",
       "        ...   \n",
       "58    1.126825\n",
       "59    0.395029\n",
       "60   -0.211583\n",
       "61   -0.561282\n",
       "62   -0.604433\n",
       "Length: 63, dtype: float64   \n",
       "\n",
       "   city      cont  \n",
       "0  adam -0.512541  "
      ]
     },
     "execution_count": null,
     "metadata": {},
     "output_type": "execute_result"
    }
   ],
   "source": [
    "# hide\n",
    "from fastseq.data.external import *\n",
    "horizon,lookback = 5,10\n",
    "df = dummy_data_generator_multi(70)\n",
    "train, val = make_test_df(df, 5, 2)\n",
    "test_eq(train.loc[0,'x'].shape, (63,))\n",
    "train.head(1)"
   ]
  },
  {
   "cell_type": "code",
   "execution_count": null,
   "metadata": {},
   "outputs": [
    {
     "data": {
      "text/html": [
       "<div>\n",
       "<style scoped>\n",
       "    .dataframe tbody tr th:only-of-type {\n",
       "        vertical-align: middle;\n",
       "    }\n",
       "\n",
       "    .dataframe tbody tr th {\n",
       "        vertical-align: top;\n",
       "    }\n",
       "\n",
       "    .dataframe thead th {\n",
       "        text-align: right;\n",
       "    }\n",
       "</style>\n",
       "<table border=\"1\" class=\"dataframe\">\n",
       "  <thead>\n",
       "    <tr style=\"text-align: right;\">\n",
       "      <th></th>\n",
       "      <th>a</th>\n",
       "      <th>b</th>\n",
       "      <th>c</th>\n",
       "    </tr>\n",
       "  </thead>\n",
       "  <tbody>\n",
       "    <tr>\n",
       "      <th>0</th>\n",
       "      <td>0    0\n",
       "1    1\n",
       "2    2\n",
       "3    3\n",
       "4    4\n",
       "5    5\n",
       "6    6\n",
       "7    7\n",
       "dtype: int64</td>\n",
       "      <td>0    0\n",
       "1    1\n",
       "2    2\n",
       "3    3\n",
       "4    4\n",
       "5    5\n",
       "6    6\n",
       "7    7\n",
       "dtype: int64</td>\n",
       "      <td>3</td>\n",
       "    </tr>\n",
       "    <tr>\n",
       "      <th>1</th>\n",
       "      <td>0    0\n",
       "1    1\n",
       "2    2\n",
       "3    3\n",
       "4    4\n",
       "5    5\n",
       "6    6\n",
       "7    7\n",
       "dtype: int64</td>\n",
       "      <td>0    0\n",
       "1    1\n",
       "2    2\n",
       "3    3\n",
       "4    4\n",
       "5    5\n",
       "6    6\n",
       "7    7\n",
       "dtype: int64</td>\n",
       "      <td>3</td>\n",
       "    </tr>\n",
       "    <tr>\n",
       "      <th>2</th>\n",
       "      <td>0    0\n",
       "1    1\n",
       "2    2\n",
       "3    3\n",
       "4    4\n",
       "5    5\n",
       "6    6\n",
       "7    7\n",
       "dtype: int64</td>\n",
       "      <td>0    0\n",
       "1    1\n",
       "2    2\n",
       "3    3\n",
       "4    4\n",
       "5    5\n",
       "6    6\n",
       "7    7\n",
       "dtype: int64</td>\n",
       "      <td>3</td>\n",
       "    </tr>\n",
       "    <tr>\n",
       "      <th>3</th>\n",
       "      <td>0    0\n",
       "1    1\n",
       "2    2\n",
       "3    3\n",
       "4    4\n",
       "5    5\n",
       "6    6\n",
       "7    7\n",
       "dtype: int64</td>\n",
       "      <td>0    0\n",
       "1    1\n",
       "2    2\n",
       "3    3\n",
       "4    4\n",
       "5    5\n",
       "6    6\n",
       "7    7\n",
       "dtype: int64</td>\n",
       "      <td>3</td>\n",
       "    </tr>\n",
       "    <tr>\n",
       "      <th>4</th>\n",
       "      <td>0    0\n",
       "1    1\n",
       "2    2\n",
       "3    3\n",
       "4    4\n",
       "5    5\n",
       "6    6\n",
       "7    7\n",
       "dtype: int64</td>\n",
       "      <td>0    0\n",
       "1    1\n",
       "2    2\n",
       "3    3\n",
       "4    4\n",
       "5    5\n",
       "6    6\n",
       "7    7\n",
       "dtype: int64</td>\n",
       "      <td>3</td>\n",
       "    </tr>\n",
       "  </tbody>\n",
       "</table>\n",
       "</div>"
      ],
      "text/plain": [
       "                                                                      a  \\\n",
       "0  0    0\n",
       "1    1\n",
       "2    2\n",
       "3    3\n",
       "4    4\n",
       "5    5\n",
       "6    6\n",
       "7    7\n",
       "dtype: int64   \n",
       "1  0    0\n",
       "1    1\n",
       "2    2\n",
       "3    3\n",
       "4    4\n",
       "5    5\n",
       "6    6\n",
       "7    7\n",
       "dtype: int64   \n",
       "2  0    0\n",
       "1    1\n",
       "2    2\n",
       "3    3\n",
       "4    4\n",
       "5    5\n",
       "6    6\n",
       "7    7\n",
       "dtype: int64   \n",
       "3  0    0\n",
       "1    1\n",
       "2    2\n",
       "3    3\n",
       "4    4\n",
       "5    5\n",
       "6    6\n",
       "7    7\n",
       "dtype: int64   \n",
       "4  0    0\n",
       "1    1\n",
       "2    2\n",
       "3    3\n",
       "4    4\n",
       "5    5\n",
       "6    6\n",
       "7    7\n",
       "dtype: int64   \n",
       "\n",
       "                                                                      b  c  \n",
       "0  0    0\n",
       "1    1\n",
       "2    2\n",
       "3    3\n",
       "4    4\n",
       "5    5\n",
       "6    6\n",
       "7    7\n",
       "dtype: int64  3  \n",
       "1  0    0\n",
       "1    1\n",
       "2    2\n",
       "3    3\n",
       "4    4\n",
       "5    5\n",
       "6    6\n",
       "7    7\n",
       "dtype: int64  3  \n",
       "2  0    0\n",
       "1    1\n",
       "2    2\n",
       "3    3\n",
       "4    4\n",
       "5    5\n",
       "6    6\n",
       "7    7\n",
       "dtype: int64  3  \n",
       "3  0    0\n",
       "1    1\n",
       "2    2\n",
       "3    3\n",
       "4    4\n",
       "5    5\n",
       "6    6\n",
       "7    7\n",
       "dtype: int64  3  \n",
       "4  0    0\n",
       "1    1\n",
       "2    2\n",
       "3    3\n",
       "4    4\n",
       "5    5\n",
       "6    6\n",
       "7    7\n",
       "dtype: int64  3  "
      ]
     },
     "execution_count": null,
     "metadata": {},
     "output_type": "execute_result"
    }
   ],
   "source": [
    "a = pd.DataFrame({'a':[np.arange(0,15)]*50,'b':[np.arange(0,15)]*50, 'c':[3]*50})\n",
    "train, val = make_test_df(a,5,2)\n",
    "test_eq(train['a'][0].max(),7)\n",
    "test_eq(val['a'][0].min(),8)\n",
    "test_eq(val['c'][0],val['c'][1])\n",
    "train.head()"
   ]
  },
  {
   "cell_type": "code",
   "execution_count": null,
   "metadata": {},
   "outputs": [
    {
     "data": {
      "text/html": [
       "<div>\n",
       "<style scoped>\n",
       "    .dataframe tbody tr th:only-of-type {\n",
       "        vertical-align: middle;\n",
       "    }\n",
       "\n",
       "    .dataframe tbody tr th {\n",
       "        vertical-align: top;\n",
       "    }\n",
       "\n",
       "    .dataframe thead th {\n",
       "        text-align: right;\n",
       "    }\n",
       "</style>\n",
       "<table border=\"1\" class=\"dataframe\">\n",
       "  <thead>\n",
       "    <tr style=\"text-align: right;\">\n",
       "      <th></th>\n",
       "      <th>a</th>\n",
       "      <th>b</th>\n",
       "      <th>c</th>\n",
       "    </tr>\n",
       "  </thead>\n",
       "  <tbody>\n",
       "    <tr>\n",
       "      <th>0</th>\n",
       "      <td>0    0\n",
       "1    1\n",
       "2    2\n",
       "3    3\n",
       "4    4\n",
       "5    5\n",
       "6    6\n",
       "7    7\n",
       "8    8\n",
       "9    9\n",
       "dtype: int64</td>\n",
       "      <td>0    0\n",
       "1    1\n",
       "2    2\n",
       "3    3\n",
       "4    4\n",
       "5    5\n",
       "6    6\n",
       "7    7\n",
       "8    8\n",
       "9    9\n",
       "dtype: int64</td>\n",
       "      <td>3</td>\n",
       "    </tr>\n",
       "    <tr>\n",
       "      <th>1</th>\n",
       "      <td>0    0\n",
       "1    1\n",
       "2    2\n",
       "3    3\n",
       "4    4\n",
       "5    5\n",
       "6    6\n",
       "7    7\n",
       "8    8\n",
       "9    9\n",
       "dtype: int64</td>\n",
       "      <td>0    0\n",
       "1    1\n",
       "2    2\n",
       "3    3\n",
       "4    4\n",
       "5    5\n",
       "6    6\n",
       "7    7\n",
       "8    8\n",
       "9    9\n",
       "dtype: int64</td>\n",
       "      <td>3</td>\n",
       "    </tr>\n",
       "    <tr>\n",
       "      <th>2</th>\n",
       "      <td>0    0\n",
       "1    1\n",
       "2    2\n",
       "3    3\n",
       "4    4\n",
       "5    5\n",
       "6    6\n",
       "7    7\n",
       "8    8\n",
       "9    9\n",
       "dtype: int64</td>\n",
       "      <td>0    0\n",
       "1    1\n",
       "2    2\n",
       "3    3\n",
       "4    4\n",
       "5    5\n",
       "6    6\n",
       "7    7\n",
       "8    8\n",
       "9    9\n",
       "dtype: int64</td>\n",
       "      <td>3</td>\n",
       "    </tr>\n",
       "    <tr>\n",
       "      <th>3</th>\n",
       "      <td>0    0\n",
       "1    1\n",
       "2    2\n",
       "3    3\n",
       "4    4\n",
       "5    5\n",
       "6    6\n",
       "7    7\n",
       "8    8\n",
       "9    9\n",
       "dtype: int64</td>\n",
       "      <td>0    0\n",
       "1    1\n",
       "2    2\n",
       "3    3\n",
       "4    4\n",
       "5    5\n",
       "6    6\n",
       "7    7\n",
       "8    8\n",
       "9    9\n",
       "dtype: int64</td>\n",
       "      <td>3</td>\n",
       "    </tr>\n",
       "    <tr>\n",
       "      <th>4</th>\n",
       "      <td>0    0\n",
       "1    1\n",
       "2    2\n",
       "3    3\n",
       "4    4\n",
       "5    5\n",
       "6    6\n",
       "7    7\n",
       "8    8\n",
       "9    9\n",
       "dtype: int64</td>\n",
       "      <td>0    0\n",
       "1    1\n",
       "2    2\n",
       "3    3\n",
       "4    4\n",
       "5    5\n",
       "6    6\n",
       "7    7\n",
       "8    8\n",
       "9    9\n",
       "dtype: int64</td>\n",
       "      <td>3</td>\n",
       "    </tr>\n",
       "  </tbody>\n",
       "</table>\n",
       "</div>"
      ],
      "text/plain": [
       "                                                                                    a  \\\n",
       "0  0    0\n",
       "1    1\n",
       "2    2\n",
       "3    3\n",
       "4    4\n",
       "5    5\n",
       "6    6\n",
       "7    7\n",
       "8    8\n",
       "9    9\n",
       "dtype: int64   \n",
       "1  0    0\n",
       "1    1\n",
       "2    2\n",
       "3    3\n",
       "4    4\n",
       "5    5\n",
       "6    6\n",
       "7    7\n",
       "8    8\n",
       "9    9\n",
       "dtype: int64   \n",
       "2  0    0\n",
       "1    1\n",
       "2    2\n",
       "3    3\n",
       "4    4\n",
       "5    5\n",
       "6    6\n",
       "7    7\n",
       "8    8\n",
       "9    9\n",
       "dtype: int64   \n",
       "3  0    0\n",
       "1    1\n",
       "2    2\n",
       "3    3\n",
       "4    4\n",
       "5    5\n",
       "6    6\n",
       "7    7\n",
       "8    8\n",
       "9    9\n",
       "dtype: int64   \n",
       "4  0    0\n",
       "1    1\n",
       "2    2\n",
       "3    3\n",
       "4    4\n",
       "5    5\n",
       "6    6\n",
       "7    7\n",
       "8    8\n",
       "9    9\n",
       "dtype: int64   \n",
       "\n",
       "                                                                                    b  \\\n",
       "0  0    0\n",
       "1    1\n",
       "2    2\n",
       "3    3\n",
       "4    4\n",
       "5    5\n",
       "6    6\n",
       "7    7\n",
       "8    8\n",
       "9    9\n",
       "dtype: int64   \n",
       "1  0    0\n",
       "1    1\n",
       "2    2\n",
       "3    3\n",
       "4    4\n",
       "5    5\n",
       "6    6\n",
       "7    7\n",
       "8    8\n",
       "9    9\n",
       "dtype: int64   \n",
       "2  0    0\n",
       "1    1\n",
       "2    2\n",
       "3    3\n",
       "4    4\n",
       "5    5\n",
       "6    6\n",
       "7    7\n",
       "8    8\n",
       "9    9\n",
       "dtype: int64   \n",
       "3  0    0\n",
       "1    1\n",
       "2    2\n",
       "3    3\n",
       "4    4\n",
       "5    5\n",
       "6    6\n",
       "7    7\n",
       "8    8\n",
       "9    9\n",
       "dtype: int64   \n",
       "4  0    0\n",
       "1    1\n",
       "2    2\n",
       "3    3\n",
       "4    4\n",
       "5    5\n",
       "6    6\n",
       "7    7\n",
       "8    8\n",
       "9    9\n",
       "dtype: int64   \n",
       "\n",
       "   c  \n",
       "0  3  \n",
       "1  3  \n",
       "2  3  \n",
       "3  3  \n",
       "4  3  "
      ]
     },
     "execution_count": null,
     "metadata": {},
     "output_type": "execute_result"
    }
   ],
   "source": [
    "# hide\n",
    "train, val = make_test_df(a,5,2,True)\n",
    "test_eq(train['a'][0].max(),9)\n",
    "test_eq(val['a'][0].min(),8)\n",
    "test_eq(val['c'][0],val['c'][1])\n",
    "train.head()"
   ]
  },
  {
   "cell_type": "markdown",
   "metadata": {},
   "source": [
    "## Dataloaders"
   ]
  },
  {
   "cell_type": "code",
   "execution_count": null,
   "metadata": {},
   "outputs": [],
   "source": [
    "#export\n",
    "class DfDataLoaders(DataLoaders):\n",
    "    @classmethod\n",
    "    @delegates(DfDataLoader.__init__)\n",
    "    def from_df(cls, dataset:pd.DataFrame, y_name:str, horizon:int, valid_pct=1.5, seed=None, lookback=None, step=1,\n",
    "                   incl_test = True, path:Path='.', device=None, norm=True, **kwargs):\n",
    "        \"\"\"Create an list of time series.\n",
    "        The `DataLoader` for the test set will be save as an attribute under `test`\n",
    "        \"\"\"\n",
    "        lookback = ifnone(lookback, horizon * 4)\n",
    "        device = ifnone(device, default_device())\n",
    "        if incl_test:\n",
    "            dataset, test = make_test_df(dataset, horizon, lookback, keep_lookback = True)\n",
    "        train, valid = make_test_df(dataset, horizon + int(valid_pct*horizon), lookback , keep_lookback = True)\n",
    "        if norm and 'after_batch' not in kwargs:\n",
    "            kwargs.update({'after_batch':L(NormalizeSeqsMulti(n_its=4))})\n",
    "        db = DataLoaders(*[DfDataLoader(ds, y_name, horizon=horizon, lookback=lookback, step=step,\n",
    "                                        device=device, **kwargs)\n",
    "                           for ds in [train,valid]], path=path, device=device)\n",
    "        if incl_test:\n",
    "            db.test = DfDataLoader(test, y_name, horizon=horizon, lookback=lookback, step=step, device=device, **kwargs)\n",
    "\n",
    "            print(f\"Train:{db.train.n}; Valid: {db.valid.n}; Test {db.test.n}\")\n",
    "        else:\n",
    "            print(f\"Train:{db.train.n}; Valid: {db.valid.n}\")\n",
    "\n",
    "        return db"
   ]
  },
  {
   "cell_type": "code",
   "execution_count": null,
   "metadata": {},
   "outputs": [
    {
     "data": {
      "text/html": [
       "<div>\n",
       "<style scoped>\n",
       "    .dataframe tbody tr th:only-of-type {\n",
       "        vertical-align: middle;\n",
       "    }\n",
       "\n",
       "    .dataframe tbody tr th {\n",
       "        vertical-align: top;\n",
       "    }\n",
       "\n",
       "    .dataframe thead th {\n",
       "        text-align: right;\n",
       "    }\n",
       "</style>\n",
       "<table border=\"1\" class=\"dataframe\">\n",
       "  <thead>\n",
       "    <tr style=\"text-align: right;\">\n",
       "      <th></th>\n",
       "      <th>pred</th>\n",
       "      <th>a</th>\n",
       "    </tr>\n",
       "  </thead>\n",
       "  <tbody>\n",
       "    <tr>\n",
       "      <th>0</th>\n",
       "      <td>0     0.712323\n",
       "1     0.772959\n",
       "2     1.042336\n",
       "3     1.272789\n",
       "4     1.252441\n",
       "5     1.000000\n",
       "6     0.747559\n",
       "7     0.727211\n",
       "8     0.957664\n",
       "9     1.227041\n",
       "10    1.287677\n",
       "11    1.083825\n",
       "12    0.802904\n",
       "13    0.703193\n",
       "14    0.876364\n",
       "15    1.163206\n",
       "16    1.299997\n",
       "17    1.160972\n",
       "18    0.873950\n",
       "19    0.702818\n",
       "20    0.804914\n",
       "21    1.086371\n",
       "22    1.288419\n",
       "23    1.225296\n",
       "24    0.955037\n",
       "25    0.726116\n",
       "26    0.749003\n",
       "27    1.002655\n",
       "28    1.253866\n",
       "29    1.271674\n",
       "dtype: float64</td>\n",
       "      <td>[1.9589242746631386, 1.7568024953079282, 0.8588799919401328, 0.09070257317431829, 0.1585290151921035, 1.0, 1.8414709848078965, 1.9092974268256817, 1.1411200080598671, 0.2431975046920718, 0.041075725336861546, 0.7205845018010741, 1.656986598718789, 1.989358246623382, 1.4121184852417565, 0.4559788891106302, 9.793449296524592e-06, 0.46342708199956506, 1.420167036826641, 1.9906073556948702, 1.6502878401571168, 0.7120966833349347, 0.03860250812044319, 0.24901275322832395, 1.1498772096629524, 1.9129452507276277, 1.836655638536056, 0.9911486907095961, 0.15377959582482936, 0.0944216379933761]</td>\n",
       "    </tr>\n",
       "  </tbody>\n",
       "</table>\n",
       "</div>"
      ],
      "text/plain": [
       "                                                                                                                                                                                                                                                                                                                                                                                                                                                                               pred  \\\n",
       "0  0     0.712323\n",
       "1     0.772959\n",
       "2     1.042336\n",
       "3     1.272789\n",
       "4     1.252441\n",
       "5     1.000000\n",
       "6     0.747559\n",
       "7     0.727211\n",
       "8     0.957664\n",
       "9     1.227041\n",
       "10    1.287677\n",
       "11    1.083825\n",
       "12    0.802904\n",
       "13    0.703193\n",
       "14    0.876364\n",
       "15    1.163206\n",
       "16    1.299997\n",
       "17    1.160972\n",
       "18    0.873950\n",
       "19    0.702818\n",
       "20    0.804914\n",
       "21    1.086371\n",
       "22    1.288419\n",
       "23    1.225296\n",
       "24    0.955037\n",
       "25    0.726116\n",
       "26    0.749003\n",
       "27    1.002655\n",
       "28    1.253866\n",
       "29    1.271674\n",
       "dtype: float64   \n",
       "\n",
       "                                                                                                                                                                                                                                                                                                                                                                                                                                                                                                                                                                                                                 a  \n",
       "0  [1.9589242746631386, 1.7568024953079282, 0.8588799919401328, 0.09070257317431829, 0.1585290151921035, 1.0, 1.8414709848078965, 1.9092974268256817, 1.1411200080598671, 0.2431975046920718, 0.041075725336861546, 0.7205845018010741, 1.656986598718789, 1.989358246623382, 1.4121184852417565, 0.4559788891106302, 9.793449296524592e-06, 0.46342708199956506, 1.420167036826641, 1.9906073556948702, 1.6502878401571168, 0.7120966833349347, 0.03860250812044319, 0.24901275322832395, 1.1498772096629524, 1.9129452507276277, 1.836655638536056, 0.9911486907095961, 0.15377959582482936, 0.0944216379933761]  "
      ]
     },
     "execution_count": null,
     "metadata": {},
     "output_type": "execute_result"
    }
   ],
   "source": [
    "# hide\n",
    "# device series\n",
    "horizon,lookback = 2,5\n",
    "t = np.arange(-5,25)\n",
    "a = np.sin(t)\n",
    "df = pd.DataFrame({'pred':[pd.Series(i + (i*.6)*a*-.5) for i in range(1,100)],\n",
    "                   'a':[i+a for i in range(1,100)]})\n",
    "df.head(1)"
   ]
  },
  {
   "cell_type": "code",
   "execution_count": null,
   "metadata": {},
   "outputs": [
    {
     "name": "stdout",
     "output_type": "stream",
     "text": [
      "Train:396; Valid: 99; Test 99\n"
     ]
    }
   ],
   "source": [
    "# hide\n",
    "data = DfDataLoaders.from_df(df, 'pred', horizon = horizon, lookback=lookback, step=5, device = torch.device('cpu'))\n",
    "\n",
    "test_eq(data.valid.dataset.iloc[0,0].shape[-1], data.valid.dataset.iloc[0,1].shape[-1])\n",
    "test_eq(data.valid.dataset.iloc[0,0].shape[-1]>lookback+horizon, True)\n",
    "test_eq(hasattr(data,'test'),True)\n",
    "test_eq([o[0].device for o in data.train][0], torch.device('cpu'))\n",
    "test_eq([o[0].device for o in data.test][0], torch.device('cpu'))"
   ]
  },
  {
   "cell_type": "code",
   "execution_count": null,
   "metadata": {},
   "outputs": [],
   "source": [
    "# hide\n",
    "# device `cpu`\n",
    "horizon,lookback = 2,5\n",
    "t = np.arange(-5,25)\n",
    "a = np.sin(t)\n",
    "df = pd.DataFrame({'pred':[i + (i*.6)*a*-.5 for i in range(1,100)],'a':[i+a for i in range(1,100)]})\n"
   ]
  },
  {
   "cell_type": "code",
   "execution_count": null,
   "metadata": {},
   "outputs": [
    {
     "name": "stdout",
     "output_type": "stream",
     "text": [
      "Train:396; Valid: 99; Test 99\n"
     ]
    }
   ],
   "source": [
    "# hide\n",
    "data = DfDataLoaders.from_df(df, 'pred', horizon = horizon, lookback=lookback, step=5, device = torch.device('cpu'))\n",
    "test_eq(data.valid.dataset.iloc[0,0].shape[-1],data.valid.dataset.iloc[0,1].shape[-1])\n",
    "test_eq(data.valid.dataset.iloc[0,0].shape[-1]>lookback+horizon, True)\n",
    "test_eq(hasattr(data,'test'),True)\n",
    "test_eq([o[0].device for o in data.train][0], torch.device('cpu'))\n",
    "test_eq([o[0].device for o in data.test][0], torch.device('cpu'))"
   ]
  },
  {
   "cell_type": "code",
   "execution_count": null,
   "metadata": {},
   "outputs": [
    {
     "name": "stdout",
     "output_type": "stream",
     "text": [
      "Train:396; Valid: 99; Test 99\n"
     ]
    }
   ],
   "source": [
    "# hide\n",
    "# default device\n",
    "\n",
    "data = DfDataLoaders.from_df(df,'pred', horizon = horizon, lookback=lookback, step=5)\n",
    "test_eq(data.valid.dataset.iloc[0,0].shape[-1]>lookback+horizon, True)\n",
    "test_eq(hasattr(data,'test'),True)\n",
    "test_eq([o[0].device for o in data.train][0], default_device())\n",
    "test_eq([o[0].device for o in data.test][0], default_device())"
   ]
  },
  {
   "cell_type": "code",
   "execution_count": null,
   "metadata": {},
   "outputs": [
    {
     "name": "stdout",
     "output_type": "stream",
     "text": [
      "Train:1881; Valid: 396\n"
     ]
    }
   ],
   "source": [
    "# hide\n",
    "dbunch = DfDataLoaders.from_df(df,'pred',horizon=horizon, lookback = lookback, incl_test=False)\n",
    "test_eq(hasattr(dbunch,'test'),False)"
   ]
  },
  {
   "cell_type": "code",
   "execution_count": null,
   "metadata": {},
   "outputs": [
    {
     "data": {
      "text/markdown": [
       "<h4 id=\"DfDataLoaders.from_df\" class=\"doc_header\"><code>DfDataLoaders.from_df</code><a href=\"__main__.py#L3\" class=\"source_link\" style=\"float:right\">[source]</a></h4>\n",
       "\n",
       "> <code>DfDataLoaders.from_df</code>(**`dataset`**:`DataFrame`, **`y_name`**:`str`, **`horizon`**:`int`, **`valid_pct`**=*`1.5`*, **`seed`**=*`None`*, **`lookback`**=*`None`*, **`step`**=*`1`*, **`incl_test`**=*`True`*, **`path`**:`Path`=*`'.'`*, **`device`**=*`None`*, **`norm`**=*`True`*, **`min_seq_len`**=*`None`*, **`procs`**=*`None`*, **`train`**=*`True`*, **`bs`**=*`64`*, **`shuffle`**=*`False`*, **`num_workers`**=*`None`*, **`verbose`**=*`False`*, **`do_setup`**=*`True`*, **`pin_memory`**=*`False`*, **`timeout`**=*`0`*, **`batch_size`**=*`None`*, **`drop_last`**=*`False`*, **`indexed`**=*`None`*, **`n`**=*`None`*, **`wif`**=*`None`*, **`before_iter`**=*`None`*, **`after_item`**=*`None`*, **`before_batch`**=*`None`*, **`after_batch`**=*`None`*, **`after_iter`**=*`None`*, **`create_batches`**=*`None`*, **`create_item`**=*`None`*, **`create_batch`**=*`None`*, **`retain`**=*`None`*, **`get_idxs`**=*`None`*, **`sample`**=*`None`*, **`shuffle_fn`**=*`None`*, **`do_batch`**=*`None`*)\n",
       "\n",
       "Create an list of time series.\n",
       "The `DataLoader` for the test set will be save as an attribute under `test`"
      ],
      "text/plain": [
       "<IPython.core.display.Markdown object>"
      ]
     },
     "metadata": {},
     "output_type": "display_data"
    }
   ],
   "source": [
    "show_doc(DfDataLoaders.from_df, name='DfDataLoaders.from_df')"
   ]
  },
  {
   "cell_type": "code",
   "execution_count": null,
   "metadata": {},
   "outputs": [
    {
     "data": {
      "text/html": [
       "<div>\n",
       "<style scoped>\n",
       "    .dataframe tbody tr th:only-of-type {\n",
       "        vertical-align: middle;\n",
       "    }\n",
       "\n",
       "    .dataframe tbody tr th {\n",
       "        vertical-align: top;\n",
       "    }\n",
       "\n",
       "    .dataframe thead th {\n",
       "        text-align: right;\n",
       "    }\n",
       "</style>\n",
       "<table border=\"1\" class=\"dataframe\">\n",
       "  <thead>\n",
       "    <tr style=\"text-align: right;\">\n",
       "      <th></th>\n",
       "      <th>x</th>\n",
       "      <th>weather</th>\n",
       "      <th>city</th>\n",
       "      <th>cont</th>\n",
       "    </tr>\n",
       "  </thead>\n",
       "  <tbody>\n",
       "    <tr>\n",
       "      <th>0</th>\n",
       "      <td>[[-2.1041966199884703, -1.946287588437741, -1.6958393091514996, -1.9062827321486062, -1.34369143138818, -0.9452851914798072, -0.45482601790863963, -0.013326982480934403, 0.2809690819453411, 0.5018660336678928, 0.5157546270416875, 0.7400203166324962, 1.0047925192369627, 1.0184695339538687, 1.3321255435354844, 1.583235311053137, 1.604192285296049, 1.8434717908231453, 1.5394386662436772, 1.4925857486720797, 1.4298083461422606, 1.0816669162099495, 0.8369444089610094, 0.5811127909873821, 0.3843518170875312, 0.15675334899975665, 0.3305732723753742, 0.13934757106853599, 0.12509422090813893, 0.217...</td>\n",
       "      <td>[[0.41490307321026243, 0.20018946394177983, 0.3291209558872097, 0.8223483625765546, 1.5918548614107553, 2.464349320610314, 3.230063200206451, 3.702619385718611, 3.772325970269258, 3.437184104988529, 2.8025102850098187, 2.0493871368773866, 1.3813937702222139, 0.9654725390644182, 0.8844572478740618, 1.115229614410545, 1.5387598979352008, 1.9787376268501293, 2.256969252829337, 2.248760994291555, 1.92159346902716, 1.3454919654221271, 0.6720629718989346, 0.08862590716960228, -0.23862383522084918, -0.21518301576650156, 0.15280291428670867, 0.760017459805579, 1.4335222943615145, 1.984926975694987...</td>\n",
       "      <td>adam</td>\n",
       "      <td>-0.686367</td>\n",
       "    </tr>\n",
       "    <tr>\n",
       "      <th>1</th>\n",
       "      <td>[[-0.9211627859979843, -0.8999090002162221, -1.2258986959477962, -1.1970976208086794, -1.199406070750117, -0.9660479832418708, -1.1312543131237571, -0.8916697081380727, -0.45177950404020417, -0.5499630866987019, -0.4268031640107679, -0.6837772180685796, -0.8908936625510054, -0.5767636883188807, -0.3859025157262424, -0.5476087183351649, -0.675801478939705, -0.731410869502782, -0.34872358501843503, -0.360613229787546, 0.08403164305730218, -0.22296938077103348, -0.5583010562880804, -0.7374930733230826, -0.9646498894470036, -1.4090004660769881, -1.2754111423048666, -1.4610370648952378, -1.3908...</td>\n",
       "      <td>[[-0.6483730702072203, -0.7713083367330698, -0.9522878278049556, -1.0427622806548404, -0.9358443662976227, -0.6034151008546598, -0.10698196139410965, 0.42129282363208753, 0.8216367710730693, 0.960423394054763, 0.7777406741642657, 0.31350374701915784, -0.29681340620254537, -0.8565870506426081, -1.16311965775216, -1.0674005550709211, -0.5207787552688936, 0.40570836425633294, 1.5357828642856746, 2.6327452377834257, 3.4623171618247763, 3.8557716022102646, 3.7553910196453044, 3.229322934500039, 2.451711442605042, 1.6539828347469243, 1.0614121019245863, 0.8331768248401279, 1.0228381240937208, 1....</td>\n",
       "      <td>adam</td>\n",
       "      <td>-1.148822</td>\n",
       "    </tr>\n",
       "    <tr>\n",
       "      <th>2</th>\n",
       "      <td>[[1.7923799645244414, 1.6574998834398214, 1.598611151987119, 1.4175999818512293, 1.551718170673197, 1.3976760496064013, 1.3207411127205853, 1.3254563471051553, 1.290317566470686, 1.2544784783015803, 1.3029298233830606, 1.0758323815847965, 1.0153539145824413, 0.9765773725642654, 0.8781448163405944, 0.9335434466810654, 0.9794950464251478, 0.971802584285577, 1.139298647172753, 1.028085846154639, 1.028810548030246, 0.722407849131589, 0.5284600656793007, 0.3308174389142558, 0.05010300183813529, -0.09992991572446903, -0.2545222196174038, -0.4442341311561212, -0.41880636513377334, -0.614532283165...</td>\n",
       "      <td>[[6.2373824617984, 5.8243350449214475, 5.583403551033473, 5.612699208161967, 5.927243337379029, 6.45152326044442, 7.039075489384304, 7.513544694297254, 7.71923345708419, 7.56627432955693, 7.057090380696501, 6.286312681945068, 5.4141575404708595, 4.621100555712944, 4.05718655481315, 3.8008486666001433, 3.839225679568796, 4.075532574296722, 4.3609809995261894, 4.5414719766076725, 4.504960671156086, 4.215303842323784, 3.7225565674639727, 3.1468272426169728, 2.640778015908821, 2.342274929308127, 2.331624086671216, 2.6064024190170754, 3.081540199235484, 3.6146524962884903, 4.048956892512514, 4....</td>\n",
       "      <td>adam</td>\n",
       "      <td>-1.401161</td>\n",
       "    </tr>\n",
       "  </tbody>\n",
       "</table>\n",
       "</div>"
      ],
      "text/plain": [
       "                                                                                                                                                                                                                                                                                                                                                                                                                                                                                                                                                                                                                         x  \\\n",
       "0  [[-2.1041966199884703, -1.946287588437741, -1.6958393091514996, -1.9062827321486062, -1.34369143138818, -0.9452851914798072, -0.45482601790863963, -0.013326982480934403, 0.2809690819453411, 0.5018660336678928, 0.5157546270416875, 0.7400203166324962, 1.0047925192369627, 1.0184695339538687, 1.3321255435354844, 1.583235311053137, 1.604192285296049, 1.8434717908231453, 1.5394386662436772, 1.4925857486720797, 1.4298083461422606, 1.0816669162099495, 0.8369444089610094, 0.5811127909873821, 0.3843518170875312, 0.15675334899975665, 0.3305732723753742, 0.13934757106853599, 0.12509422090813893, 0.217...   \n",
       "1  [[-0.9211627859979843, -0.8999090002162221, -1.2258986959477962, -1.1970976208086794, -1.199406070750117, -0.9660479832418708, -1.1312543131237571, -0.8916697081380727, -0.45177950404020417, -0.5499630866987019, -0.4268031640107679, -0.6837772180685796, -0.8908936625510054, -0.5767636883188807, -0.3859025157262424, -0.5476087183351649, -0.675801478939705, -0.731410869502782, -0.34872358501843503, -0.360613229787546, 0.08403164305730218, -0.22296938077103348, -0.5583010562880804, -0.7374930733230826, -0.9646498894470036, -1.4090004660769881, -1.2754111423048666, -1.4610370648952378, -1.3908...   \n",
       "2  [[1.7923799645244414, 1.6574998834398214, 1.598611151987119, 1.4175999818512293, 1.551718170673197, 1.3976760496064013, 1.3207411127205853, 1.3254563471051553, 1.290317566470686, 1.2544784783015803, 1.3029298233830606, 1.0758323815847965, 1.0153539145824413, 0.9765773725642654, 0.8781448163405944, 0.9335434466810654, 0.9794950464251478, 0.971802584285577, 1.139298647172753, 1.028085846154639, 1.028810548030246, 0.722407849131589, 0.5284600656793007, 0.3308174389142558, 0.05010300183813529, -0.09992991572446903, -0.2545222196174038, -0.4442341311561212, -0.41880636513377334, -0.614532283165...   \n",
       "\n",
       "                                                                                                                                                                                                                                                                                                                                                                                                                                                                                                                                                                                                                   weather  \\\n",
       "0  [[0.41490307321026243, 0.20018946394177983, 0.3291209558872097, 0.8223483625765546, 1.5918548614107553, 2.464349320610314, 3.230063200206451, 3.702619385718611, 3.772325970269258, 3.437184104988529, 2.8025102850098187, 2.0493871368773866, 1.3813937702222139, 0.9654725390644182, 0.8844572478740618, 1.115229614410545, 1.5387598979352008, 1.9787376268501293, 2.256969252829337, 2.248760994291555, 1.92159346902716, 1.3454919654221271, 0.6720629718989346, 0.08862590716960228, -0.23862383522084918, -0.21518301576650156, 0.15280291428670867, 0.760017459805579, 1.4335222943615145, 1.984926975694987...   \n",
       "1  [[-0.6483730702072203, -0.7713083367330698, -0.9522878278049556, -1.0427622806548404, -0.9358443662976227, -0.6034151008546598, -0.10698196139410965, 0.42129282363208753, 0.8216367710730693, 0.960423394054763, 0.7777406741642657, 0.31350374701915784, -0.29681340620254537, -0.8565870506426081, -1.16311965775216, -1.0674005550709211, -0.5207787552688936, 0.40570836425633294, 1.5357828642856746, 2.6327452377834257, 3.4623171618247763, 3.8557716022102646, 3.7553910196453044, 3.229322934500039, 2.451711442605042, 1.6539828347469243, 1.0614121019245863, 0.8331768248401279, 1.0228381240937208, 1....   \n",
       "2  [[6.2373824617984, 5.8243350449214475, 5.583403551033473, 5.612699208161967, 5.927243337379029, 6.45152326044442, 7.039075489384304, 7.513544694297254, 7.71923345708419, 7.56627432955693, 7.057090380696501, 6.286312681945068, 5.4141575404708595, 4.621100555712944, 4.05718655481315, 3.8008486666001433, 3.839225679568796, 4.075532574296722, 4.3609809995261894, 4.5414719766076725, 4.504960671156086, 4.215303842323784, 3.7225565674639727, 3.1468272426169728, 2.640778015908821, 2.342274929308127, 2.331624086671216, 2.6064024190170754, 3.081540199235484, 3.6146524962884903, 4.048956892512514, 4....   \n",
       "\n",
       "   city      cont  \n",
       "0  adam -0.686367  \n",
       "1  adam -1.148822  \n",
       "2  adam -1.401161  "
      ]
     },
     "execution_count": null,
     "metadata": {},
     "output_type": "execute_result"
    }
   ],
   "source": [
    "from fastseq.data.external import *\n",
    "horizon,lookback = 5,10\n",
    "df = dummy_data_generator_multi(70)\n",
    "df.head(3)"
   ]
  },
  {
   "cell_type": "code",
   "execution_count": null,
   "metadata": {},
   "outputs": [
    {
     "name": "stdout",
     "output_type": "stream",
     "text": [
      "Train:130; Valid: 60; Test 10\n"
     ]
    },
    {
     "data": {
      "image/png": "[encoded data removed]",
      "text/plain": [
       "<Figure size 648x720 with 9 Axes>"
      ]
     },
     "metadata": {
      "needs_background": "light"
     },
     "output_type": "display_data"
    }
   ],
   "source": [
    "dbunch =  DfDataLoaders.from_df(df, 'x', horizon = 7, lookback=14, step=2, bs=32)\n",
    "dbunch.train.show_batch(max_n=9)"
   ]
  },
  {
   "cell_type": "code",
   "execution_count": null,
   "metadata": {},
   "outputs": [
    {
     "data": {
      "image/png": "[encoded data removed]",
      "text/plain": [
       "<Figure size 648x720 with 9 Axes>"
      ]
     },
     "metadata": {
      "needs_background": "light"
     },
     "output_type": "display_data"
    }
   ],
   "source": [
    "dbunch.test.show_batch(max_n=9)"
   ]
  },
  {
   "cell_type": "markdown",
   "metadata": {},
   "source": [
    "## M5"
   ]
  },
  {
   "cell_type": "code",
   "execution_count": null,
   "metadata": {},
   "outputs": [
    {
     "data": {
      "text/plain": [
       "(#4) [Path('../data/m5_tiny/sales_train_validation.csv'),Path('../data/m5_tiny/sample_submission.csv'),Path('../data/m5_tiny/calendar.csv'),Path('../data/m5_tiny/sell_prices.csv')]"
      ]
     },
     "execution_count": null,
     "metadata": {},
     "output_type": "execute_result"
    }
   ],
   "source": [
    "path = Path('../data/m5_tiny')\n",
    "path.ls()"
   ]
  },
  {
   "cell_type": "code",
   "execution_count": null,
   "metadata": {},
   "outputs": [
    {
     "data": {
      "text/html": [
       "<div>\n",
       "<style scoped>\n",
       "    .dataframe tbody tr th:only-of-type {\n",
       "        vertical-align: middle;\n",
       "    }\n",
       "\n",
       "    .dataframe tbody tr th {\n",
       "        vertical-align: top;\n",
       "    }\n",
       "\n",
       "    .dataframe thead th {\n",
       "        text-align: right;\n",
       "    }\n",
       "</style>\n",
       "<table border=\"1\" class=\"dataframe\">\n",
       "  <thead>\n",
       "    <tr style=\"text-align: right;\">\n",
       "      <th></th>\n",
       "      <th>id</th>\n",
       "      <th>item_id</th>\n",
       "      <th>dept_id</th>\n",
       "      <th>cat_id</th>\n",
       "      <th>store_id</th>\n",
       "      <th>state_id</th>\n",
       "      <th>d_1</th>\n",
       "      <th>d_2</th>\n",
       "      <th>d_3</th>\n",
       "      <th>d_4</th>\n",
       "      <th>...</th>\n",
       "      <th>d_1904</th>\n",
       "      <th>d_1905</th>\n",
       "      <th>d_1906</th>\n",
       "      <th>d_1907</th>\n",
       "      <th>d_1908</th>\n",
       "      <th>d_1909</th>\n",
       "      <th>d_1910</th>\n",
       "      <th>d_1911</th>\n",
       "      <th>d_1912</th>\n",
       "      <th>d_1913</th>\n",
       "    </tr>\n",
       "  </thead>\n",
       "  <tbody>\n",
       "    <tr>\n",
       "      <th>0</th>\n",
       "      <td>HOBBIES_1_001_CA_1_validation</td>\n",
       "      <td>HOBBIES_1_001</td>\n",
       "      <td>HOBBIES_1</td>\n",
       "      <td>HOBBIES</td>\n",
       "      <td>CA_1</td>\n",
       "      <td>CA</td>\n",
       "      <td>0</td>\n",
       "      <td>0</td>\n",
       "      <td>0</td>\n",
       "      <td>0</td>\n",
       "      <td>...</td>\n",
       "      <td>1</td>\n",
       "      <td>3</td>\n",
       "      <td>0</td>\n",
       "      <td>1</td>\n",
       "      <td>1</td>\n",
       "      <td>1</td>\n",
       "      <td>3</td>\n",
       "      <td>0</td>\n",
       "      <td>1</td>\n",
       "      <td>1</td>\n",
       "    </tr>\n",
       "    <tr>\n",
       "      <th>1</th>\n",
       "      <td>HOBBIES_1_002_CA_1_validation</td>\n",
       "      <td>HOBBIES_1_002</td>\n",
       "      <td>HOBBIES_1</td>\n",
       "      <td>HOBBIES</td>\n",
       "      <td>CA_1</td>\n",
       "      <td>CA</td>\n",
       "      <td>0</td>\n",
       "      <td>0</td>\n",
       "      <td>0</td>\n",
       "      <td>0</td>\n",
       "      <td>...</td>\n",
       "      <td>0</td>\n",
       "      <td>0</td>\n",
       "      <td>0</td>\n",
       "      <td>0</td>\n",
       "      <td>0</td>\n",
       "      <td>1</td>\n",
       "      <td>0</td>\n",
       "      <td>0</td>\n",
       "      <td>0</td>\n",
       "      <td>0</td>\n",
       "    </tr>\n",
       "    <tr>\n",
       "      <th>2</th>\n",
       "      <td>HOBBIES_1_003_CA_1_validation</td>\n",
       "      <td>HOBBIES_1_003</td>\n",
       "      <td>HOBBIES_1</td>\n",
       "      <td>HOBBIES</td>\n",
       "      <td>CA_1</td>\n",
       "      <td>CA</td>\n",
       "      <td>0</td>\n",
       "      <td>0</td>\n",
       "      <td>0</td>\n",
       "      <td>0</td>\n",
       "      <td>...</td>\n",
       "      <td>2</td>\n",
       "      <td>1</td>\n",
       "      <td>2</td>\n",
       "      <td>1</td>\n",
       "      <td>1</td>\n",
       "      <td>1</td>\n",
       "      <td>0</td>\n",
       "      <td>1</td>\n",
       "      <td>1</td>\n",
       "      <td>1</td>\n",
       "    </tr>\n",
       "    <tr>\n",
       "      <th>3</th>\n",
       "      <td>HOBBIES_1_004_CA_1_validation</td>\n",
       "      <td>HOBBIES_1_004</td>\n",
       "      <td>HOBBIES_1</td>\n",
       "      <td>HOBBIES</td>\n",
       "      <td>CA_1</td>\n",
       "      <td>CA</td>\n",
       "      <td>0</td>\n",
       "      <td>0</td>\n",
       "      <td>0</td>\n",
       "      <td>0</td>\n",
       "      <td>...</td>\n",
       "      <td>1</td>\n",
       "      <td>0</td>\n",
       "      <td>5</td>\n",
       "      <td>4</td>\n",
       "      <td>1</td>\n",
       "      <td>0</td>\n",
       "      <td>1</td>\n",
       "      <td>3</td>\n",
       "      <td>7</td>\n",
       "      <td>2</td>\n",
       "    </tr>\n",
       "    <tr>\n",
       "      <th>4</th>\n",
       "      <td>HOBBIES_1_005_CA_1_validation</td>\n",
       "      <td>HOBBIES_1_005</td>\n",
       "      <td>HOBBIES_1</td>\n",
       "      <td>HOBBIES</td>\n",
       "      <td>CA_1</td>\n",
       "      <td>CA</td>\n",
       "      <td>0</td>\n",
       "      <td>0</td>\n",
       "      <td>0</td>\n",
       "      <td>0</td>\n",
       "      <td>...</td>\n",
       "      <td>2</td>\n",
       "      <td>1</td>\n",
       "      <td>1</td>\n",
       "      <td>0</td>\n",
       "      <td>1</td>\n",
       "      <td>1</td>\n",
       "      <td>2</td>\n",
       "      <td>2</td>\n",
       "      <td>2</td>\n",
       "      <td>4</td>\n",
       "    </tr>\n",
       "  </tbody>\n",
       "</table>\n",
       "<p>5 rows × 1919 columns</p>\n",
       "</div>"
      ],
      "text/plain": [
       "                              id        item_id    dept_id   cat_id store_id  \\\n",
       "0  HOBBIES_1_001_CA_1_validation  HOBBIES_1_001  HOBBIES_1  HOBBIES     CA_1   \n",
       "1  HOBBIES_1_002_CA_1_validation  HOBBIES_1_002  HOBBIES_1  HOBBIES     CA_1   \n",
       "2  HOBBIES_1_003_CA_1_validation  HOBBIES_1_003  HOBBIES_1  HOBBIES     CA_1   \n",
       "3  HOBBIES_1_004_CA_1_validation  HOBBIES_1_004  HOBBIES_1  HOBBIES     CA_1   \n",
       "4  HOBBIES_1_005_CA_1_validation  HOBBIES_1_005  HOBBIES_1  HOBBIES     CA_1   \n",
       "\n",
       "  state_id  d_1  d_2  d_3  d_4  ...  d_1904  d_1905  d_1906  d_1907  d_1908  \\\n",
       "0       CA    0    0    0    0  ...       1       3       0       1       1   \n",
       "1       CA    0    0    0    0  ...       0       0       0       0       0   \n",
       "2       CA    0    0    0    0  ...       2       1       2       1       1   \n",
       "3       CA    0    0    0    0  ...       1       0       5       4       1   \n",
       "4       CA    0    0    0    0  ...       2       1       1       0       1   \n",
       "\n",
       "   d_1909  d_1910  d_1911  d_1912  d_1913  \n",
       "0       1       3       0       1       1  \n",
       "1       1       0       0       0       0  \n",
       "2       1       0       1       1       1  \n",
       "3       0       1       3       7       2  \n",
       "4       1       2       2       2       4  \n",
       "\n",
       "[5 rows x 1919 columns]"
      ]
     },
     "execution_count": null,
     "metadata": {},
     "output_type": "execute_result"
    }
   ],
   "source": [
    "df_sales = pd.read_csv(path / 'sales_train_validation.csv',)\n",
    "df_sales.head()"
   ]
  },
  {
   "cell_type": "code",
   "execution_count": null,
   "metadata": {},
   "outputs": [],
   "source": [
    "# export\n",
    "def _del_key_and_move_others(dct:dict, key:int):\n",
    "    \"\"\"Assuming keys of dict are intergers and the next one is +1.\"\"\"\n",
    "    r = {}\n",
    "    for k,v in dct.items():\n",
    "        if k < key:\n",
    "            r[k] = dct[k]\n",
    "        elif k > key:\n",
    "            r[k-1] = dct[k]\n",
    "    return r           "
   ]
  },
  {
   "cell_type": "code",
   "execution_count": null,
   "metadata": {},
   "outputs": [],
   "source": [
    "dct = {i:i for i in range(5)} \n",
    "test_eq(_del_key_and_move_others(dct,3),{0: 0, 1: 1, 2: 2, 3: 4})"
   ]
  },
  {
   "cell_type": "code",
   "execution_count": null,
   "metadata": {},
   "outputs": [],
   "source": [
    "# export\n",
    "from fastai2.tabular.core import *\n",
    "class SkipZeros(TabularProc):\n",
    "    def __init__(self, p_stay):\n",
    "        self.p_stay = p_stay\n",
    "        self.skipped = {'all':0,'out':[]}\n",
    "        \n",
    "    def setup(self, dl, train_setup):\n",
    "        self.skipped = {'all':0,'out':[]}\n",
    "        for i in range(dl.n):\n",
    "            o = dl.create_item(i)\n",
    "            if o[-1].mean()==0 and o[-1].std() == 0:\n",
    "                self.skipped['all'] += 1\n",
    "                if np.random.rand() > self.p_stay and train_setup:\n",
    "                    self.skipped['out'].append(i)\n",
    "                    \n",
    "        for removed, i in enumerate(self.skipped['out']):\n",
    "            dl._ids = _del_key_and_move_others(dl._ids,i - removed)\n",
    "        dl.n = int(dl._ids.__len__())      \n",
    "        \n",
    "        return dl"
   ]
  },
  {
   "cell_type": "code",
   "execution_count": null,
   "metadata": {},
   "outputs": [
    {
     "name": "stdout",
     "output_type": "stream",
     "text": [
      "{0: (array([1]),), 1: (array([3]),), 2: (array([5]),), 3: (array([7]),)}\n"
     ]
    }
   ],
   "source": [
    "class test_dl(object):\n",
    "    def __init__(self, n):\n",
    "        self.n = n\n",
    "        self._ids = {i:(np.array([i]),) if i%2!=0 else (np.array([0]),) for i in range(n)}\n",
    "    def create_item(self,i):\n",
    "        return self._ids[i]\n",
    "dl = SkipZeros(0).setup(test_dl(8), True)\n",
    "print(dl._ids)\n",
    "test_eq(np.array([v==(array([0]),) for k,v in dl._ids.items()]).sum(),0)\n",
    "test_eq(dl.n,len(dl._ids))"
   ]
  },
  {
   "cell_type": "code",
   "execution_count": null,
   "metadata": {},
   "outputs": [],
   "source": [
    "# export\n",
    "def get_per_zeros(dl, name = ''):\n",
    "    zeros = L()\n",
    "    for i,o in enumerate(dl):\n",
    "        zeros += [int(a) for a in o[-1].mean(-1)==0]\n",
    "    print(f'{name}:num of zeros {np.round(np.array(zeros).mean()*100,2)}% over {len(zeros)} batchs')\n",
    "    return zeros\n",
    "    \n",
    "DfDataLoader.per_zeros = get_per_zeros"
   ]
  },
  {
   "cell_type": "code",
   "execution_count": null,
   "metadata": {},
   "outputs": [
    {
     "name": "stdout",
     "output_type": "stream",
     "text": [
      "Train:744; Valid: 21; Test 3\n",
      "wo train:num of zeros 36.56% over 744 batchs\n",
      "Train:499; Valid: 21; Test 3\n",
      "train:num of zeros 5.41% over 499 batchs\n",
      "valid:num of zeros 0.0% over 21 batchs\n",
      "test:num of zeros 0.0% over 3 batchs\n"
     ]
    }
   ],
   "source": [
    "df_sales = to_contained_series(pd.read_csv(path / 'sales_train_validation.csv').iloc[:3,:])\n",
    "dbunch = DfDataLoaders.from_df(df_sales, 'sales', horizon = 28, lookback=28*2, step=7, bs=32)\n",
    "wo_proc = dbunch.train.per_zeros('wo train')\n",
    "\n",
    "df_sales = to_contained_series(pd.read_csv(path / 'sales_train_validation.csv').iloc[:3,:])\n",
    "skip = .1\n",
    "dbunch = DfDataLoaders.from_df(df_sales, 'sales', horizon = 28, lookback=28*2, step=7, bs=32, procs = SkipZeros(skip))\n",
    "\n",
    "w_proc = dbunch.train.per_zeros('train')\n",
    "dbunch.valid.per_zeros('valid')\n",
    "dbunch.test.per_zeros('test')\n",
    "test_close(np.array(wo_proc).sum()*skip, np.array(w_proc).sum(), np.array(w_proc).sum() *.3)"
   ]
  },
  {
   "cell_type": "code",
   "execution_count": null,
   "metadata": {},
   "outputs": [
    {
     "ename": "ValueError",
     "evalue": "could not convert string to float: 'HOBBIES_1'",
     "output_type": "error",
     "traceback": [
      "\u001b[0;31m---------------------------------------------------------------------------\u001b[0m",
      "\u001b[0;31mValueError\u001b[0m                                Traceback (most recent call last)",
      "\u001b[0;32m<ipython-input-47-66d96b0c01a2>\u001b[0m in \u001b[0;36m<module>\u001b[0;34m\u001b[0m\n\u001b[0;32m----> 1\u001b[0;31m \u001b[0mdf_validation\u001b[0m \u001b[0;34m=\u001b[0m \u001b[0mto_contained_series\u001b[0m\u001b[0;34m(\u001b[0m\u001b[0mpd\u001b[0m\u001b[0;34m.\u001b[0m\u001b[0mread_csv\u001b[0m\u001b[0;34m(\u001b[0m\u001b[0mpath\u001b[0m \u001b[0;34m/\u001b[0m \u001b[0;34m'sales_train_validation.csv'\u001b[0m\u001b[0;34m)\u001b[0m\u001b[0;34m,\u001b[0m \u001b[0ms_slice\u001b[0m\u001b[0;34m=\u001b[0m\u001b[0mslice\u001b[0m\u001b[0;34m(\u001b[0m\u001b[0;36m2\u001b[0m\u001b[0;34m,\u001b[0m\u001b[0;32mNone\u001b[0m\u001b[0;34m)\u001b[0m\u001b[0;34m)\u001b[0m\u001b[0;34m\u001b[0m\u001b[0;34m\u001b[0m\u001b[0m\n\u001b[0m\u001b[1;32m      2\u001b[0m \u001b[0mdf_validation\u001b[0m\u001b[0;34m.\u001b[0m\u001b[0mhead\u001b[0m\u001b[0;34m(\u001b[0m\u001b[0;34m)\u001b[0m\u001b[0;34m\u001b[0m\u001b[0;34m\u001b[0m\u001b[0m\n",
      "\u001b[0;32m~/dev/fastseq/fastseq/data/load_pd.py\u001b[0m in \u001b[0;36mto_contained_series\u001b[0;34m(df, **kwargs)\u001b[0m\n\u001b[1;32m    253\u001b[0m \u001b[0;32mdef\u001b[0m \u001b[0mto_contained_series\u001b[0m\u001b[0;34m(\u001b[0m\u001b[0mdf\u001b[0m\u001b[0;34m,\u001b[0m \u001b[0;34m**\u001b[0m\u001b[0mkwargs\u001b[0m\u001b[0;34m)\u001b[0m\u001b[0;34m:\u001b[0m\u001b[0;34m\u001b[0m\u001b[0;34m\u001b[0m\u001b[0m\n\u001b[1;32m    254\u001b[0m     \u001b[0mdata\u001b[0m\u001b[0;34m=\u001b[0m\u001b[0;34m{\u001b[0m\u001b[0mk\u001b[0m\u001b[0;34m:\u001b[0m\u001b[0mv\u001b[0m \u001b[0;32mfor\u001b[0m \u001b[0mk\u001b[0m\u001b[0;34m,\u001b[0m\u001b[0mv\u001b[0m \u001b[0;32min\u001b[0m \u001b[0mdict\u001b[0m\u001b[0;34m(\u001b[0m\u001b[0mdf\u001b[0m\u001b[0;34m)\u001b[0m\u001b[0;34m.\u001b[0m\u001b[0mitems\u001b[0m\u001b[0;34m(\u001b[0m\u001b[0;34m)\u001b[0m \u001b[0;32mif\u001b[0m \u001b[0;34m'd_'\u001b[0m \u001b[0;32mnot\u001b[0m \u001b[0;32min\u001b[0m \u001b[0mk\u001b[0m \u001b[0;32mor\u001b[0m \u001b[0;34m'F_'\u001b[0m \u001b[0;32mnot\u001b[0m \u001b[0;32min\u001b[0m \u001b[0mk\u001b[0m\u001b[0;34m}\u001b[0m\u001b[0;34m\u001b[0m\u001b[0;34m\u001b[0m\u001b[0m\n\u001b[0;32m--> 255\u001b[0;31m     \u001b[0mdata\u001b[0m\u001b[0;34m[\u001b[0m\u001b[0;34m'sales'\u001b[0m\u001b[0;34m]\u001b[0m \u001b[0;34m=\u001b[0m \u001b[0mpd\u001b[0m\u001b[0;34m.\u001b[0m\u001b[0mSeries\u001b[0m\u001b[0;34m(\u001b[0m\u001b[0m_to_series\u001b[0m\u001b[0;34m(\u001b[0m\u001b[0mdf\u001b[0m\u001b[0;34m,\u001b[0m \u001b[0;34m**\u001b[0m\u001b[0mkwargs\u001b[0m\u001b[0;34m)\u001b[0m\u001b[0;34m)\u001b[0m\u001b[0;34m\u001b[0m\u001b[0;34m\u001b[0m\u001b[0m\n\u001b[0m\u001b[1;32m    256\u001b[0m     \u001b[0mdf\u001b[0m \u001b[0;34m=\u001b[0m \u001b[0mpd\u001b[0m\u001b[0;34m.\u001b[0m\u001b[0mDataFrame\u001b[0m\u001b[0;34m(\u001b[0m\u001b[0mdata\u001b[0m\u001b[0;34m=\u001b[0m\u001b[0mdata\u001b[0m\u001b[0;34m)\u001b[0m\u001b[0;34m\u001b[0m\u001b[0;34m\u001b[0m\u001b[0m\n\u001b[1;32m    257\u001b[0m     \u001b[0;32mreturn\u001b[0m \u001b[0mdf\u001b[0m\u001b[0;34m\u001b[0m\u001b[0;34m\u001b[0m\u001b[0m\n",
      "\u001b[0;32m~/dev/fastseq/fastseq/data/load_pd.py\u001b[0m in \u001b[0;36m_to_series\u001b[0;34m(df, s_slice)\u001b[0m\n\u001b[1;32m    247\u001b[0m     \u001b[0mr\u001b[0m \u001b[0;34m=\u001b[0m \u001b[0;34m[\u001b[0m\u001b[0;34m]\u001b[0m\u001b[0;34m\u001b[0m\u001b[0;34m\u001b[0m\u001b[0m\n\u001b[1;32m    248\u001b[0m     \u001b[0;32mfor\u001b[0m \u001b[0mi\u001b[0m \u001b[0;32min\u001b[0m \u001b[0mrange\u001b[0m\u001b[0;34m(\u001b[0m\u001b[0mdf\u001b[0m\u001b[0;34m.\u001b[0m\u001b[0mshape\u001b[0m\u001b[0;34m[\u001b[0m\u001b[0;36m0\u001b[0m\u001b[0;34m]\u001b[0m\u001b[0;34m)\u001b[0m\u001b[0;34m:\u001b[0m\u001b[0;34m\u001b[0m\u001b[0;34m\u001b[0m\u001b[0m\n\u001b[0;32m--> 249\u001b[0;31m         \u001b[0mr\u001b[0m\u001b[0;34m.\u001b[0m\u001b[0mappend\u001b[0m\u001b[0;34m(\u001b[0m\u001b[0mpd\u001b[0m\u001b[0;34m.\u001b[0m\u001b[0mSeries\u001b[0m\u001b[0;34m(\u001b[0m\u001b[0mdf\u001b[0m\u001b[0;34m.\u001b[0m\u001b[0miloc\u001b[0m\u001b[0;34m[\u001b[0m\u001b[0mi\u001b[0m\u001b[0;34m,\u001b[0m \u001b[0ms_slice\u001b[0m\u001b[0;34m]\u001b[0m\u001b[0;34m.\u001b[0m\u001b[0mvalues\u001b[0m\u001b[0;34m.\u001b[0m\u001b[0mastype\u001b[0m\u001b[0;34m(\u001b[0m\u001b[0mfloat\u001b[0m\u001b[0;34m)\u001b[0m\u001b[0;34m)\u001b[0m\u001b[0;34m)\u001b[0m\u001b[0;34m\u001b[0m\u001b[0;34m\u001b[0m\u001b[0m\n\u001b[0m\u001b[1;32m    250\u001b[0m     \u001b[0;32mreturn\u001b[0m \u001b[0mr\u001b[0m\u001b[0;34m\u001b[0m\u001b[0;34m\u001b[0m\u001b[0m\n\u001b[1;32m    251\u001b[0m \u001b[0;34m\u001b[0m\u001b[0m\n",
      "\u001b[0;31mValueError\u001b[0m: could not convert string to float: 'HOBBIES_1'"
     ]
    }
   ],
   "source": [
    "df_validation = to_contained_series(pd.read_csv(path / 'sales_train_validation.csv'), s_slice=slice(2,None))  \n",
    "df_validation.head()\n"
   ]
  },
  {
   "cell_type": "code",
   "execution_count": null,
   "metadata": {},
   "outputs": [],
   "source": [
    "# export\n",
    "@delegates(DfDataLoaders.from_df)\n",
    "def from_m5_folder(cls, path:pd.DataFrame, cols = ['sales'], p_stay=.2, s_slice = None, **kwargs):\n",
    "    df_sales = to_contained_series(pd.read_csv(path / 'sales_train_validation.csv'), s_slice = s_slice)\n",
    "    dl = cls.from_df(df_sales.loc[:,cols], y_name = 'sales', procs = SkipZeros(p_stay), **kwargs)\n",
    "    df_validation = to_contained_series(pd.read_csv(path / 'sales_train_validation.csv'),slice(1,None))    \n",
    "    dl.validation = \n",
    "    return dl\n",
    "\n",
    "DfDataLoaders.from_m5_folder = classmethod(from_m5_folder)"
   ]
  },
  {
   "cell_type": "code",
   "execution_count": null,
   "metadata": {},
   "outputs": [
    {
     "name": "stdout",
     "output_type": "stream",
     "text": [
      "Train:3208; Valid: 1520; Test 220\n"
     ]
    }
   ],
   "source": [
    "dl = DfDataLoaders.from_m5_folder(path, horizon=28, lookback=28*2, step=7, p_stay = 0, s_slice = slice(-28*10,None))"
   ]
  },
  {
   "cell_type": "code",
   "execution_count": null,
   "metadata": {},
   "outputs": [
    {
     "data": {
      "image/png": "[encoded data removed]",
      "text/plain": [
       "<Figure size 648x720 with 9 Axes>"
      ]
     },
     "metadata": {
      "needs_background": "light"
     },
     "output_type": "display_data"
    }
   ],
   "source": [
    "dl.show_batch(max_n=9)"
   ]
  },
  {
   "cell_type": "code",
   "execution_count": null,
   "metadata": {},
   "outputs": [
    {
     "name": "stdout",
     "output_type": "stream",
     "text": [
      "Converted 00_core.ipynb.\n",
      "Converted 01_data.external.ipynb.\n",
      "Converted 020_data.load_pd.ipynb.\n",
      "Converted 02_data.load.ipynb.\n",
      "Converted 030_data.core_pd.ipynb.\n",
      "Converted 03_data.core.ipynb.\n",
      "Converted 050_nbeats.models_multi.ipynb.\n",
      "Converted 05_nbeats.model_M5.ipynb.\n",
      "Converted 05_nbeats.models.ipynb.\n",
      "Converted 06_nbeats.callbacks.ipynb.\n",
      "Converted 07_nbeats.learner.ipynb.\n",
      "Converted 08_nbeats.interpret.ipynb.\n",
      "Converted 11_metrics.ipynb.\n",
      "Converted 12_compare.ipynb.\n",
      "Converted index.ipynb.\n"
     ]
    }
   ],
   "source": [
    "# hide\n",
    "from nbdev.export import *\n",
    "\n",
    "notebook2script()"
   ]
  },
  {
   "cell_type": "code",
   "execution_count": null,
   "metadata": {},
   "outputs": [],
   "source": []
  },
  {
   "cell_type": "code",
   "execution_count": null,
   "metadata": {},
   "outputs": [],
   "source": []
  }
 ],
 "metadata": {
  "kernelspec": {
   "display_name": "env37",
   "language": "python",
   "name": "env37"
  }
 },
 "nbformat": 4,
 "nbformat_minor": 4
}
