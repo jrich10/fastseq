{
 "cells": [
  {
   "cell_type": "code",
   "execution_count": null,
   "metadata": {},
   "outputs": [
    {
     "name": "stderr",
     "output_type": "stream",
     "text": [
      "/home/tako/dev/env37/lib/python3.7/site-packages/pandas/compat/__init__.py:117: UserWarning: Could not import the lzma module. Your installed Python is incomplete. Attempting to use lzma compression will result in a RuntimeError.\n",
      "  warnings.warn(msg)\n"
     ]
    }
   ],
   "source": [
    "from fastai2.data.all import *"
   ]
  },
  {
   "cell_type": "code",
   "execution_count": null,
   "metadata": {},
   "outputs": [],
   "source": [
    "def _is_tuple(o): \n",
    "    r =  isinstance(o, tuple)  and not hasattr(o, '_fields')\n",
    "    print(r)\n",
    "    return r\n",
    "\n",
    "from fastcore.transform import _TfmMeta\n",
    "\n",
    "class Transform(metaclass=_TfmMeta):\n",
    "    \"Delegates (`__call__`,`decode`,`setup`) to (`encodes`,`decodes`,`setups`) if `split_idx` matches\"\n",
    "    split_idx,init_enc,order,train_setup = None,None,0,None\n",
    "    def __init__(self, enc=None, dec=None, split_idx=None, order=None):\n",
    "        self.split_idx = ifnone(split_idx, self.split_idx)\n",
    "        if order is not None: self.order=order\n",
    "        self.init_enc = enc or dec\n",
    "        if not self.init_enc: return\n",
    "\n",
    "        self.encodes,self.decodes,self.setups = TypeDispatch(),TypeDispatch(),TypeDispatch()\n",
    "        if enc:\n",
    "            self.encodes.add(enc)\n",
    "            self.order = getattr(enc,'order',self.order)\n",
    "            if len(type_hints(enc)) > 0: self.input_types = first(type_hints(enc).values())\n",
    "            self._name = _get_name(enc)\n",
    "        if dec: self.decodes.add(dec)\n",
    "\n",
    "    @property\n",
    "    def name(self): return getattr(self, '_name', _get_name(self))\n",
    "    def __call__(self, x, **kwargs): return self._call('encodes', x, **kwargs)\n",
    "    def decode  (self, x, **kwargs): return self._call('decodes', x, **kwargs)\n",
    "    def __repr__(self): return f'{self.name}: {self.encodes} {self.decodes}'\n",
    "\n",
    "    def setup(self, items=None, train_setup=False):\n",
    "        train_setup = train_setup if self.train_setup is None else self.train_setup\n",
    "        return self.setups(getattr(items, 'train', items) if train_setup else items)\n",
    "\n",
    "    def _call(self, fn, x, split_idx=None, **kwargs):\n",
    "        if split_idx!=self.split_idx and self.split_idx is not None: return x\n",
    "        return self._do_call(getattr(self, fn), x, **kwargs)\n",
    "\n",
    "    def _do_call(self, f, x, **kwargs):\n",
    "        if not _is_tuple(x):\n",
    "            return x if f is None else retain_type(f(x, **kwargs), x, f.returns_none(x))\n",
    "        res = tuple(self._do_call(f, x_, **kwargs) for x_ in x)\n",
    "        return retain_type(res, x)\n",
    "    \n",
    "class ItemTransform(Transform):\n",
    "    \"A transform that always take tuples as items\"\n",
    "    def __call__(self, x, **kwargs):\n",
    "        if not _is_tuple(x): return super().__call__(x, **kwargs)\n",
    "        return retain_type(super().__call__(list(x), **kwargs), x)\n",
    "\n",
    "    def decode(self, x, **kwargs):\n",
    "        if not _is_tuple(x): return super().decode(x, **kwargs)\n",
    "        return retain_type(super().decode(list(x), **kwargs), x)\n"
   ]
  },
  {
   "cell_type": "code",
   "execution_count": null,
   "metadata": {},
   "outputs": [],
   "source": [
    "class OtherTuple(Tuple):pass\n",
    "class Tfm(ItemTransform):        \n",
    "    def encodes(self, o:OtherTuple):\n",
    "        print('tmf.encodes triggered')\n",
    "        return list(o)+['m']\n",
    "    \n",
    "    def decodes(self, o:list): \n",
    "        return Tuple(o)\n",
    "    "
   ]
  },
  {
   "cell_type": "code",
   "execution_count": null,
   "metadata": {},
   "outputs": [
    {
     "name": "stdout",
     "output_type": "stream",
     "text": [
      "True\n",
      "False\n"
     ]
    },
    {
     "data": {
      "text/plain": [
       "[0, 1]"
      ]
     },
     "execution_count": null,
     "metadata": {},
     "output_type": "execute_result"
    }
   ],
   "source": [
    "t = Tfm()\n",
    "t(OtherTuple([0,1]))"
   ]
  },
  {
   "cell_type": "code",
   "execution_count": null,
   "metadata": {},
   "outputs": [
    {
     "name": "stdout",
     "output_type": "stream",
     "text": [
      "tmf.encodes triggered\n"
     ]
    },
    {
     "data": {
      "text/plain": [
       "[0, 1, 'm']"
      ]
     },
     "execution_count": null,
     "metadata": {},
     "output_type": "execute_result"
    }
   ],
   "source": [
    "t.encodes(OtherTuple([0,1]))\n",
    "# t.encodes(tuple([0,1]))"
   ]
  },
  {
   "cell_type": "code",
   "execution_count": null,
   "metadata": {},
   "outputs": [],
   "source": [
    "class Tfm2(ItemTransform):        \n",
    "    def encodes(self, o):\n",
    "        print('tmf.encodes triggered')\n",
    "        return list(o)\n",
    "    \n",
    "    def decodes(self, o:list): \n",
    "        return Tuple(o)\n",
    "    "
   ]
  },
  {
   "cell_type": "code",
   "execution_count": null,
   "metadata": {},
   "outputs": [
    {
     "name": "stdout",
     "output_type": "stream",
     "text": [
      "tmf.encodes triggered\n"
     ]
    },
    {
     "data": {
      "text/plain": [
       "[0, 1]"
      ]
     },
     "execution_count": null,
     "metadata": {},
     "output_type": "execute_result"
    }
   ],
   "source": [
    "t = Tfm2()\n",
    "t(tuple([0,1]))"
   ]
  },
  {
   "cell_type": "code",
   "execution_count": null,
   "metadata": {},
   "outputs": [
    {
     "name": "stdout",
     "output_type": "stream",
     "text": [
      "tmf.encodes triggered\n"
     ]
    },
    {
     "data": {
      "text/plain": [
       "[0, 1]"
      ]
     },
     "execution_count": null,
     "metadata": {},
     "output_type": "execute_result"
    }
   ],
   "source": [
    "t(OtherTuple(0,1))"
   ]
  },
  {
   "cell_type": "code",
   "execution_count": null,
   "metadata": {},
   "outputs": [],
   "source": [
    "def _is_tuple(o): \n",
    "    return (isinstance(o, tuple) or ) and not hasattr(o, '_fields')\n"
   ]
  },
  {
   "cell_type": "code",
   "execution_count": null,
   "metadata": {},
   "outputs": [],
   "source": [
    "class OItemTransform(Transform):\n",
    "    \"A transform that always take tuples, or childeren from tuples as items.\"    \n",
    "    def __call__(self, x, **kwargs):\n",
    "        if not _is_tuple(x): return super().__call__(x, **kwargs)\n",
    "        return retain_type(super().__call__(list(x), **kwargs), x)\n",
    "\n",
    "    def decode(self, x, **kwargs):\n",
    "        if not _is_tuple(x): return super().decode(x, **kwargs)\n",
    "        return retain_type(super().decode(list(x), **kwargs), x)\n"
   ]
  },
  {
   "cell_type": "code",
   "execution_count": null,
   "metadata": {},
   "outputs": [],
   "source": [
    "class OtherTuple(L):pass\n",
    "class Tfm(ItemTransform):        \n",
    "    def encodes(self, o:OtherTuple):\n",
    "        return list(o)\n",
    "    \n",
    "    def decodes(self, o:list): \n",
    "        return Tuple(o)\n",
    "    "
   ]
  },
  {
   "cell_type": "code",
   "execution_count": null,
   "metadata": {},
   "outputs": [
    {
     "data": {
      "text/plain": [
       "[0, 1]"
      ]
     },
     "execution_count": null,
     "metadata": {},
     "output_type": "execute_result"
    }
   ],
   "source": [
    "t = Tfm()\n",
    "t(OtherTuple(0,1))"
   ]
  },
  {
   "cell_type": "code",
   "execution_count": null,
   "metadata": {},
   "outputs": [
    {
     "data": {
      "text/plain": [
       "[0, 1]"
      ]
     },
     "execution_count": null,
     "metadata": {},
     "output_type": "execute_result"
    }
   ],
   "source": [
    "t.encodes(OtherTuple(0,1))"
   ]
  },
  {
   "cell_type": "code",
   "execution_count": null,
   "metadata": {},
   "outputs": [],
   "source": []
  }
 ],
 "metadata": {
  "kernelspec": {
   "display_name": "env37",
   "language": "python",
   "name": "env37"
  }
 },
 "nbformat": 4,
 "nbformat_minor": 4
}
